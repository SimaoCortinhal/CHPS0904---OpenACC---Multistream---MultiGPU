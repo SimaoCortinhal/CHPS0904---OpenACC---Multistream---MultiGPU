{
    "cells": [
        {
            "cell_type": "markdown",
            "metadata": {},
            "source": [
                "## RDF\n",
                "The radial distribution function (RDF) denoted in equations by g(r) defines the probability of finding a particle at a distance r from another tagged particle. The RDF is strongly dependent on the type of matter so will vary greatly for solids, gases and liquids.\n",
                "<img src=\"../images/rdf.png\" width=\"40%\" height=\"40%\">"
            ]
        },
        {
            "cell_type": "markdown",
            "metadata": {},
            "source": [
                "As you might have observed the code complexity of the algorithm is of order of $N^{2}$ . Let us get into details of the sequential code. **Understand and analyze** the code present at:\n",
                "\n",
                "[RDF Serial Code](rdf.f90)\n",
                "\n",
                "[Makefile](Makefile)\n",
                "\n",
                "Open the downloaded file for inspection. Make the changes and add the OpenACC directives to parallelize the code. Then, run the below cell to compile.\n",
                "\n",
                "\n",
                "__To pass the assessment, you need to use the data directives and explicitly manage the memory rather than using the `managed` memory flag in the `Makefile`.__"
            ]
        },
        {
            "cell_type": "code",
            "execution_count": null,
            "metadata": {},
            "outputs": [],
            "source": [
                "!make clean && make"
            ]
        },
        {
            "cell_type": "markdown",
            "metadata": {},
            "source": [
                "Let's run the executable and validate the output first. Then, profile the code."
            ]
        },
        {
            "cell_type": "code",
            "execution_count": null,
            "metadata": {},
            "outputs": [],
            "source": [
                "#Run the multicore code and check the output\n",
                "!./rdf && cat Pair_entropy.dat"
            ]
        },
        {
            "cell_type": "markdown",
            "metadata": {},
            "source": [
                "The output should be the following:\n",
                "\n",
                "```\n",
                "s2 value is -2.452690945278331\n",
                "s2bond value is -24.37502820694527\n",
                "```"
            ]
        },
        {
            "cell_type": "code",
            "execution_count": null,
            "metadata": {},
            "outputs": [],
            "source": [
                "!nsys profile -t nvtx --stats=true --force-overwrite true -o rdf ./rdf"
            ]
        },
        {
            "cell_type": "markdown",
            "metadata": {},
            "source": [
                "To view the profiler report, you would need to download and save the report file by holding down <mark>Shift</mark> and <mark>Right-Clicking</mark> [Here](rdf.qdrep) (choose *save link as*), and open it via the GUI.\n",
                "\n",
                "Once you are ready, run the below cell to assess your code."
            ]
        },
        {
            "cell_type": "code",
            "execution_count": null,
            "metadata": {
                "scrolled": true
            },
            "outputs": [],
            "source": [
                "!./run_assess"
            ]
        },
        {
            "cell_type": "markdown",
            "metadata": {},
            "source": [
                "## Get Credit for Your Work"
            ]
        },
        {
            "cell_type": "markdown",
            "metadata": {},
            "source": [
                "After successfully completing your work, revisit the web page where you launched this coding environment and click the \"ASSESS TASK\" button. After doing so you will be get instructions for generating a *Certificate of Competency* for the course."
            ]
        },
        {
            "cell_type": "markdown",
            "metadata": {},
            "source": [
                "![get_credit](../images/run_the_assessment.png)"
            ]
        },
        {
            "cell_type": "markdown",
            "metadata": {},
            "source": [
                "\n",
                "-----\n",
                "\n",
                "\n",
                "# Links and Resources\n",
                "<!--[OpenACC API guide](https://www.openacc.org/sites/default/files/inline-files/OpenACC%20API%202.6%20Reference%20Guide.pdf)-->\n",
                "\n",
                "[NVIDIA Nsight System](https://docs.nvidia.com/nsight-systems/)\n",
                "\n",
                "<!--[NVIDIA Nsight Compute](https://developer.nvidia.com/nsight-compute)-->\n",
                "\n",
                "<!--[CUDA Toolkit Download](https://developer.nvidia.com/cuda-downloads)-->\n",
                "\n",
                "[Profiling timelines with NVTX](https://devblogs.nvidia.com/cuda-pro-tip-generate-custom-application-profile-timelines-nvtx/)\n",
                "\n",
                "**NOTE**: To be able to see the Nsight System profiler output, please download Nsight System latest version from [here](https://developer.nvidia.com/nsight-systems).\n",
                "\n",
                "Don't forget to check out additional [OpenACC Resources](https://www.openacc.org/resources) and join our [OpenACC Slack Channel](https://www.openacc.org/community#slack) to share your experience and get more help from the community.\n",
                "\n",
                "--- \n",
                "\n",
                "## Licensing \n",
                "\n",
                "This material is released by NVIDIA Corporation under the Creative Commons Attribution 4.0 International (CC BY 4.0). "
            ]
        }
    ],
    "metadata": {
        "kernelspec": {
            "display_name": "Python 3 (ipykernel)",
            "language": "python",
            "name": "python3"
        },
        "language_info": {
            "codemirror_mode": {
                "name": "ipython",
                "version": 3
            },
            "file_extension": ".py",
            "mimetype": "text/x-python",
            "name": "python",
            "nbconvert_exporter": "python",
            "pygments_lexer": "ipython3",
            "version": "3.9.5"
        }
    },
    "nbformat": 4,
    "nbformat_minor": 4
}