{
 "cells": [
  {
   "cell_type": "markdown",
   "metadata": {},
   "source": [
    "Assessment\n",
    "=====================================\n",
    "\n",
    "The purpose of this lab is to give students a chance to demonstrate what they have learned by using OpenACC to accelerate the Radial Difference Function. Please see the following files to begin the assessment:\n",
    "\n",
    "* [C/C++](English/C/README.ipynb)\n",
    "* [Fortran](English/Fortran/README.ipynb)\n"
   ]
  }
 ],
 "metadata": {
  "kernelspec": {
   "display_name": "Python 3 (ipykernel)",
   "language": "python",
   "name": "python3"
  },
  "language_info": {
   "codemirror_mode": {
    "name": "ipython",
    "version": 3
   },
   "file_extension": ".py",
   "mimetype": "text/x-python",
   "name": "python",
   "nbconvert_exporter": "python",
   "pygments_lexer": "ipython3",
   "version": "3.9.5"
  }
 },
 "nbformat": 4,
 "nbformat_minor": 4
}
