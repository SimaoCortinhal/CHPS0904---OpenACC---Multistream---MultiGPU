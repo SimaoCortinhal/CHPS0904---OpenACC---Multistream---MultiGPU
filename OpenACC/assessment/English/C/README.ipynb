{
 "cells": [
  {
   "cell_type": "markdown",
   "metadata": {},
   "source": [
    "## RDF\n",
    "The radial distribution function (RDF) denoted in equations by g(r) defines the probability of finding a particle at a distance r from another tagged particle. The RDF is strongly dependent on the type of matter so will vary greatly for solids, gases and liquids.\n",
    "<img src=\"../images/rdf.png\" width=\"40%\" height=\"40%\">"
   ]
  },
  {
   "cell_type": "markdown",
   "metadata": {},
   "source": [
    "# **Ma version**"
   ]
  },
  {
   "cell_type": "code",
   "execution_count": 13,
   "metadata": {},
   "outputs": [
    {
     "name": "stdout",
     "output_type": "stream",
     "text": [
      "rm -f *.o rdf\n",
      "nvc++  -acc -fast -Minfo=accel -o rdf rdf.cpp  -I/apps/2025/manual_install/nvhpc/24.11/Linux_aarch64/24.11/cuda/include \n"
     ]
    },
    {
     "name": "stderr",
     "output_type": "stream",
     "text": [
      "main:\n",
      "     91, Generating copy(h_g2[:nbin]) [if not already present]\n",
      "         Generating copyin(h_x[:numatm*nconf],h_z[:numatm*nconf],h_y[:numatm*nconf]) [if not already present]\n",
      "round(float):\n",
      "    167, Generating implicit acc routine seq\n",
      "         Generating acc routine seq\n",
      "         Generating NVIDIA GPU code\n",
      "pair_gpu(double const*, double const*, double const*, unsigned long long*, int, int, double, double, double, int):\n",
      "    181, Generating present(d_g2[:],d_x[:],d_z[:],d_y[:])\n",
      "         Generating implicit firstprivate(numatm,nconf)\n",
      "         Generating NVIDIA GPU code\n",
      "        183, #pragma acc loop gang, vector(128) collapse(3) /* blockIdx.x threadIdx.x */\n",
      "        185,   /* blockIdx.x threadIdx.x collapsed */\n",
      "        187,   /* blockIdx.x threadIdx.x collapsed */\n",
      "    187, Generating implicit firstprivate(del,dx,dy,r,xbox,zbox,ybox,ig2,cut,dz)\n"
     ]
    }
   ],
   "source": [
    "%%bash\n",
    "#Compile the code\n",
    "make clean && make"
   ]
  },
  {
   "cell_type": "markdown",
   "metadata": {},
   "source": [
    "As you might have observed the code complexity of the algorithm is of order of $N^{2}$ . Let us get into details of the sequential code. **Understand and analyze** the code present at:\n",
    "\n",
    "[RDF Serial Code](rdf.cpp)\n",
    "\n",
    "[File Reader](dcdread.h)\n",
    "\n",
    "[Makefile](Makefile)\n",
    "\n",
    "Open the downloaded file for inspection. Make the changes and add the OpenACC directives to parallelize the code. Then, run the below cell to compile.\n",
    "\n",
    "\n",
    "__To pass the assessment, you need to use the data directives and explicitly manage the memory rather than using the `managed` memory flag in the `Makefile`.__"
   ]
  },
  {
   "cell_type": "markdown",
   "metadata": {},
   "source": [
    "Let's run the executable and validate the output first. Then, profile the code."
   ]
  },
  {
   "cell_type": "code",
   "execution_count": 6,
   "metadata": {},
   "outputs": [
    {
     "name": "stdout",
     "output_type": "stream",
     "text": [
      "Dcd file has 6720 atoms and 10001 frames\n",
      "Calculating RDF for 10 frames\n",
      "Reading of input file is completed\n",
      "#Freeing Host memory\n",
      "#Number of atoms processed: 6720\n",
      "\n",
      "#Number of confs processed: 10\n",
      "\n",
      "s2 value is -2.43191\n",
      "s2bond value is -3.87014\n"
     ]
    }
   ],
   "source": [
    "%%bash\n",
    "#Run the multicore code and check the output\n",
    "./rdf && cat Pair_entropy.dat"
   ]
  },
  {
   "cell_type": "markdown",
   "metadata": {},
   "source": [
    "The output should be the following:\n",
    "\n",
    "```\n",
    "s2 value is -2.43191\n",
    "s2bond value is -3.87014\n",
    "```"
   ]
  },
  {
   "cell_type": "code",
   "execution_count": 11,
   "metadata": {},
   "outputs": [
    {
     "name": "stdout",
     "output_type": "stream",
     "text": [
      "WARNING: CUDA tracing has been automatically enabled since it is a prerequisite for tracing OpenACC.\n",
      "Collecting data...\n",
      "Dcd file has 6720 atoms and 10001 frames\n",
      "Calculating RDF for 10 frames\n",
      "Reading of input file is completed\n",
      "#Freeing Host memory\n",
      "#Number of atoms processed: 6720\n",
      "\n",
      "#Number of confs processed: 10\n",
      "\n",
      "Generating '/tmp/nsys-report-7e32.qdstrm'\n",
      "[1/7] [========================100%] rdf.nsys-rep\n",
      "[2/7] [========================100%] rdf.sqlite\n",
      "[3/7] Executing 'cuda_api_sum' stats report\n",
      "\n",
      " Time (%)  Total Time (ns)  Num Calls  Avg (ns)   Med (ns)  Min (ns)  Max (ns)  StdDev (ns)          Name        \n",
      " --------  ---------------  ---------  ---------  --------  --------  --------  -----------  --------------------\n",
      "     95.3         14072288          4  3518072.0    1888.0      1472  14067040    7032645.3  cuStreamSynchronize \n",
      "      1.8           260384          5    52076.8    4032.0      2176    126624      67473.4  cuMemAlloc_v2       \n",
      "      1.2           183136          1   183136.0  183136.0    183136    183136          0.0  cuMemAllocHost_v2   \n",
      "      1.1           158784          1   158784.0  158784.0    158784    158784          0.0  cuModuleLoadDataEx  \n",
      "      0.4            57248          4    14312.0   14112.0      5120     23904       8024.3  cuMemcpyHtoDAsync_v2\n",
      "      0.1            19680          1    19680.0   19680.0     19680     19680          0.0  cuLaunchKernel      \n",
      "      0.1            19456          1    19456.0   19456.0     19456     19456          0.0  cuMemcpyDtoHAsync_v2\n",
      "      0.0             1344          3      448.0     384.0       128       832        356.3  cuCtxSetCurrent     \n",
      "\n",
      "[4/7] Executing 'cuda_gpu_kern_sum' stats report\n",
      "\n",
      " Time (%)  Total Time (ns)  Instances   Avg (ns)    Med (ns)   Min (ns)  Max (ns)  StdDev (ns)                                                  Name                                                \n",
      " --------  ---------------  ---------  ----------  ----------  --------  --------  -----------  ----------------------------------------------------------------------------------------------------\n",
      "    100.0         14063616          1  14063616.0  14063616.0  14063616  14063616          0.0  pair_gpu_181(const double *, const double *, const double *, unsigned long long *, int, int, double…\n",
      "\n",
      "[5/7] Executing 'cuda_gpu_mem_time_sum' stats report\n",
      "\n",
      " Time (%)  Total Time (ns)  Count  Avg (ns)  Med (ns)  Min (ns)  Max (ns)  StdDev (ns)           Operation          \n",
      " --------  ---------------  -----  --------  --------  --------  --------  -----------  ----------------------------\n",
      "     86.1            16384      4    4096.0    4160.0      1504      6560       2085.3  [CUDA memcpy Host-to-Device]\n",
      "     13.9             2656      1    2656.0    2656.0      2656      2656          0.0  [CUDA memcpy Device-to-Host]\n",
      "\n",
      "[6/7] Executing 'cuda_gpu_mem_size_sum' stats report\n",
      "\n",
      " Total (MB)  Count  Avg (MB)  Med (MB)  Min (MB)  Max (MB)  StdDev (MB)           Operation          \n",
      " ----------  -----  --------  --------  --------  --------  -----------  ----------------------------\n",
      "      1.629      4     0.407     0.538     0.016     0.538        0.261  [CUDA memcpy Host-to-Device]\n",
      "      0.016      1     0.016     0.016     0.016     0.016        0.000  [CUDA memcpy Device-to-Host]\n",
      "\n",
      "[7/7] Executing 'openacc_sum' stats report\n",
      "\n",
      " Time (%)  Total Time (ns)  Num Calls   Avg (ns)    Med (ns)   Min (ns)  Max (ns)  StdDev (ns)              Name             \n",
      " --------  ---------------  ---------  ----------  ----------  --------  --------  -----------  -----------------------------\n",
      "     48.8         14103776          1  14103776.0  14103776.0  14103776  14103776          0.0  Compute Construct@rdf.cpp:181\n",
      "     48.7         14070688          2   7035344.0   7035344.0      1856  14068832    9946854.1  Wait@rdf.cpp:181             \n",
      "      1.1           319104          1    319104.0    319104.0    319104    319104          0.0  Enter Data@rdf.cpp:91        \n",
      "      0.7           212192          1    212192.0    212192.0    212192    212192          0.0  Device Init@rdf.cpp:91       \n",
      "      0.2            62752          4     15688.0     14992.0      5728     27040       9101.4  Enqueue Upload@rdf.cpp:91    \n",
      "      0.2            46336          1     46336.0     46336.0     46336     46336          0.0  Exit Data@rdf.cpp:91         \n",
      "      0.1            21536          1     21536.0     21536.0     21536     21536          0.0  Enqueue Launch@rdf.cpp:181   \n",
      "      0.1            20992          1     20992.0     20992.0     20992     20992          0.0  Enqueue Download@rdf.cpp:93  \n",
      "      0.1            16608          1     16608.0     16608.0     16608     16608          0.0  Exit Data@rdf.cpp:181        \n",
      "      0.0             3840          1      3840.0      3840.0      3840      3840          0.0  Enter Data@rdf.cpp:181       \n",
      "      0.0             3680          1      3680.0      3680.0      3680      3680          0.0  Wait@rdf.cpp:91              \n",
      "      0.0             2144          1      2144.0      2144.0      2144      2144          0.0  Wait@rdf.cpp:93              \n",
      "      0.0                0          4         0.0         0.0         0         0          0.0  Alloc@rdf.cpp:91             \n",
      "      0.0                0          4         0.0         0.0         0         0          0.0  Create@rdf.cpp:91            \n",
      "      0.0                0          4         0.0         0.0         0         0          0.0  Delete@rdf.cpp:93            \n",
      "\n",
      "Generated:\n",
      "    /gpfs/home/scortinhal/CHPS0904/OpenACC/assessment/English/C/rdf.nsys-rep\n",
      "    /gpfs/home/scortinhal/CHPS0904/OpenACC/assessment/English/C/rdf.sqlite\n"
     ]
    }
   ],
   "source": [
    "!nsys profile -t openacc --stats=true --force-overwrite true -o rdf ./rdf\n",
    "\n"
   ]
  },
  {
   "cell_type": "markdown",
   "metadata": {},
   "source": [
    "To view the profiler report, you would need to download and save the report file by holding down <mark>Shift</mark> and <mark>Right-Clicking</mark> [Here](rdf.qdrep) (choose *save link as*), and open it via the GUI.\n",
    "\n",
    "Once you are ready, run the below cell to assess your code."
   ]
  },
  {
   "cell_type": "code",
   "execution_count": 1,
   "metadata": {
    "scrolled": true
   },
   "outputs": [
    {
     "name": "stdout",
     "output_type": "stream",
     "text": [
      ".\n",
      "./run_assess: line 28: 1917701 Segmentation fault      (core dumped) nvc++ -acc -Minfo=accel -o rdf rdf.cpp -L/opt/softwares/cuda/cuda-12.6/lib64 -lnvToolsExt\n",
      "main:\n",
      "     91, Generating copy(h_g2[:nbin]) [if not already present]\n",
      "         Generating copyin(h_x[:numatm*nconf],h_z[:numatm*nconf],h_y[:numatm*nconf]) [if not already present]\n",
      "round(float):\n",
      "    167, Generating implicit acc routine seq\n",
      "         Generating acc routine seq\n",
      "         Generating NVIDIA GPU code\n",
      "pair_gpu(double const*, double const*, double const*, unsigned long long*, int, int, double, double, double, int):\n",
      "    181, Generating present(d_g2[:],d_x[:],d_z[:],d_y[:])\n",
      "         Generating implicit firstprivate(nconf,numatm)\n",
      "         Generating NVIDIA GPU code\n",
      "        183, #pragma acc loop gang, vector(128) collapse(3) /* blockIdx.x threadIdx.x */\n",
      "        185,   /* blockIdx.x threadIdx.x collapsed */\n",
      "        187,   /* blockIdx.x threadIdx.x collapsed */\n",
      "    187, Generating implicit firstprivate(del,dx,dy,r,xbox,zbox,ybox,ig2,cut,dz)\n",
      "awk: fatal: cannot open file `result.txt' for reading: No such file or directory\n",
      ".\n",
      " (standard_in) 2: syntax error\n",
      "(standard_in) 1: syntax error\n",
      "./run_assess: line 50: [: -eq: unary operator expected\n",
      "Unfortunately,  you did not achieve enough speedup. Please try again.\n"
     ]
    }
   ],
   "source": [
    "!./run_assess"
   ]
  },
  {
   "cell_type": "markdown",
   "metadata": {},
   "source": [
    "## Get Credit for Your Work"
   ]
  },
  {
   "cell_type": "markdown",
   "metadata": {},
   "source": [
    "After successfully completing your work, revisit the web page where you launched this coding environment and click the \"ASSESS TASK\" button. After doing so you will be get instructions for generating a *Certificate of Competency* for the course."
   ]
  },
  {
   "cell_type": "markdown",
   "metadata": {},
   "source": [
    "![get_credit](../images/run_the_assessment.png)"
   ]
  },
  {
   "cell_type": "markdown",
   "metadata": {},
   "source": [
    "-----\n",
    "\n",
    "\n",
    "# Links and Resources\n",
    "<!--[OpenACC API guide](https://www.openacc.org/sites/default/files/inline-files/OpenACC%20API%202.6%20Reference%20Guide.pdf)-->\n",
    "\n",
    "[NVIDIA Nsight System](https://docs.nvidia.com/nsight-systems/)\n",
    "\n",
    "<!--[NVIDIA Nsight Compute](https://developer.nvidia.com/nsight-compute)-->\n",
    "\n",
    "<!--[CUDA Toolkit Download](https://developer.nvidia.com/cuda-downloads)-->\n",
    "\n",
    "[Profiling timelines with NVTX](https://devblogs.nvidia.com/cuda-pro-tip-generate-custom-application-profile-timelines-nvtx/)\n",
    "\n",
    "**NOTE**: To be able to see the Nsight System profiler output, please download Nsight System latest version from [here](https://developer.nvidia.com/nsight-systems).\n",
    "\n",
    "Don't forget to check out additional [OpenACC Resources](https://www.openacc.org/resources) and join our [OpenACC Slack Channel](https://www.openacc.org/community#slack) to share your experience and get more help from the community.\n",
    "\n",
    "--- \n",
    "\n",
    "## Licensing \n",
    "\n",
    "This material is released by NVIDIA Corporation under the Creative Commons Attribution 4.0 International (CC BY 4.0). "
   ]
  }
 ],
 "metadata": {
  "kernelspec": {
   "display_name": "Python 3 (ipykernel)",
   "language": "python",
   "name": "python3"
  },
  "language_info": {
   "codemirror_mode": {
    "name": "ipython",
    "version": 3
   },
   "file_extension": ".py",
   "mimetype": "text/x-python",
   "name": "python",
   "nbconvert_exporter": "python",
   "pygments_lexer": "ipython3",
   "version": "3.9.18"
  }
 },
 "nbformat": 4,
 "nbformat_minor": 4
}
